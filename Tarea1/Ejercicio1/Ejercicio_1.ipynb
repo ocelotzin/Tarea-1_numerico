{
  "nbformat": 4,
  "nbformat_minor": 0,
  "metadata": {
    "colab": {
      "provenance": [],
      "include_colab_link": true
    },
    "kernelspec": {
      "name": "python3",
      "display_name": "Python 3"
    },
    "language_info": {
      "name": "python"
    }
  },
  "cells": [
    {
      "cell_type": "markdown",
      "metadata": {
        "id": "view-in-github",
        "colab_type": "text"
      },
      "source": [
        "<a href=\"https://colab.research.google.com/github/ocelotzin/Tareas_analisis_numerico/blob/main/Tarea1/Ejercicio1/Ejercicio_1.ipynb\" target=\"_parent\"><img src=\"https://colab.research.google.com/assets/colab-badge.svg\" alt=\"Open In Colab\"/></a>"
      ]
    },
    {
      "cell_type": "markdown",
      "source": [
        "<font color=\"Teal\" face=\"Comic Sans MS,arial\">\n",
        "  <h1 align=\"center\"><i>Tarea 1 Analisis Numerico</i></h1>\n",
        "  </font>\n",
        "  <font color=\"Blue\" face=\"Comic Sans MS,arial\">\n",
        "  <h5 align=\"center\"><i>MARTINEZ ROSAS ZAYDE YAMILE</i></h5>\n",
        "  <h5 align=\"center\"><i>CAMACHO MARIN ANA KAREN</i></h5>\n",
        "  <h5 align=\"center\"><i>LÓPEZ AGUIRRE ROBERTO OCELOTZIN</i></h5>\n",
        "  <h5 align=\"center\"><i>VARGAS BAUTISTA EMMANUEL</i></h5>\n",
        "  </font>"
      ],
      "metadata": {
        "id": "jRRNsGg3iyH5"
      }
    },
    {
      "cell_type": "code",
      "source": [
        "#Librerias\n",
        "\n",
        "import numpy as np\n",
        "import matplotlib.pyplot as plt\n",
        "import timeit\n",
        "import time\n",
        "import math\n",
        "from scipy.linalg import fractional_matrix_power"
      ],
      "metadata": {
        "id": "IaLM3WKxRfq8"
      },
      "execution_count": null,
      "outputs": []
    },
    {
      "cell_type": "markdown",
      "source": [
        "##Ejercicio 1"
      ],
      "metadata": {
        "id": "hULKPAuMJCv8"
      }
    },
    {
      "cell_type": "markdown",
      "source": [
        "#Ejercicio 1.1\n",
        " Programe la multiplicacion de matrices por bloques y compare tiempos de ejecucion contra el programa realizado en clase. Ojo, el nuevo programa debe ser mas rapido, escoja tamanos de 10 hasta 100."
      ],
      "metadata": {
        "id": "FSB1b7vUAKz7"
      }
    },
    {
      "cell_type": "code",
      "source": [
        "# Definir tamaño de la matriz\n",
        "n = 100\n",
        "A = np.random.rand(n, n)\n",
        "B = np.random.rand(n, n)"
      ],
      "metadata": {
        "id": "iP7uXtPJA5F4"
      },
      "execution_count": null,
      "outputs": []
    },
    {
      "cell_type": "code",
      "source": [
        "#MULTIPLICACION DE MATRICES EN CLASE\n",
        "\n",
        "def MultMat(Mat1, Mat2):\n",
        "    \"\"\"\n",
        "    Realiza la multiplicación de dos matrices.\n",
        "\n",
        "    Parámetros:\n",
        "    -----------\n",
        "    Mat1 : numpy.ndarray\n",
        "        Una matriz bidimensional de forma (n, m), donde 'n' es el número de filas\n",
        "        y 'm' es el número de columnas.\n",
        "    Mat2 : numpy.ndarray\n",
        "        Una matriz bidimensional de forma (m, p), donde 'm' es el número de filas\n",
        "        (debe coincidir con el número de columnas de Mat1) y 'p' es el número de\n",
        "        columnas.\n",
        "\n",
        "    Retorna:\n",
        "    --------\n",
        "    numpy.ndarray\n",
        "        Una matriz bidimensional de forma (n, p) que representa el resultado de\n",
        "        la multiplicación de Mat1 por Mat2.\n",
        "\n",
        "    \"\"\"\n",
        "    # Inicializa una matriz de ceros con las dimensiones adecuadas\n",
        "    Mat3 = np.zeros((Mat1.shape[0], Mat2.shape[1]))\n",
        "\n",
        "    # Itera sobre cada fila de la primera matriz\n",
        "    for row in range(Mat1.shape[0]):\n",
        "        # Itera sobre cada columna de la segunda matriz\n",
        "        for col in range(Mat2.shape[1]):\n",
        "            # Realiza la multiplicación y suma los productos\n",
        "            for aux in range(Mat2.shape[0]):\n",
        "                Mat3[row, col] += Mat1[row, aux] * Mat2[aux, col]\n",
        "\n",
        "    return Mat3\n",
        "\n",
        "\n",
        "# Medir tiempo de ejecución\n",
        "inicio = time.time()\n",
        "C_CLASE = MultMat(A, B)  # Multiplicación clase\n",
        "fin = time.time()\n",
        "\n",
        "# Mostrar tiempo de ejecución\n",
        "print(f\"Tiempo de ejecución (multiplicación en clase): {fin - inicio:.6f} segundos\")\n",
        "\n",
        "# Mostrar una parte de la matriz resultado\n",
        "print(\"Primeros 5 elementos de la primera fila (método en clase):\", C_CLASE[0, :5])"
      ],
      "metadata": {
        "id": "rwBv0tTmJLGR",
        "colab": {
          "base_uri": "https://localhost:8080/"
        },
        "outputId": "86ac132f-0991-4f1e-c09b-60c260dbb024"
      },
      "execution_count": null,
      "outputs": [
        {
          "output_type": "stream",
          "name": "stdout",
          "text": [
            "Tiempo de ejecución (multiplicación en clase): 0.690885 segundos\n",
            "Primeros 5 elementos de la primera fila (método en clase): [23.59306342 25.96653556 23.85119565 25.03562713 24.07887306]\n"
          ]
        }
      ]
    },
    {
      "cell_type": "code",
      "source": [
        "#MULTIPLICACION DE MATRICES POR BLOQUES\n",
        "\n",
        "def multiplicacion_por_bloques(A, B, tam_bloque):\n",
        "    \"\"\"\n",
        "    Multiplica dos matrices por bloques para mejorar eficiencia.\n",
        "\n",
        "    Parámetros:\n",
        "    -----------\n",
        "    A : numpy.ndarray\n",
        "        Matriz de tamaño (n, n)\n",
        "    B : numpy.ndarray\n",
        "        Matriz de tamaño (n, n)\n",
        "    tam_bloque : int\n",
        "        Tamaño del bloque para dividir la matriz.\n",
        "\n",
        "    Retorna:\n",
        "    --------\n",
        "    numpy.ndarray\n",
        "        Matriz resultante de la multiplicación de A y B por bloques.\n",
        "    \"\"\"\n",
        "    n = A.shape[0]\n",
        "    C = np.zeros((n, n))\n",
        "\n",
        "    for i in range(0, n, tam_bloque):\n",
        "        for j in range(0, n, tam_bloque):\n",
        "            for k in range(0, n, tam_bloque):\n",
        "                A_block = A[i:i+tam_bloque, k:k+tam_bloque]\n",
        "                B_block = B[k:k+tam_bloque, j:j+tam_bloque]\n",
        "                C[i:i+tam_bloque, j:j+tam_bloque] += MultMat(A_block, B_block)\n",
        "\n",
        "    return C\n",
        "\n",
        "# Definir tamaño del bloque\n",
        "tam_bloque = 10\n",
        "\n",
        "# Medir tiempo de ejecución\n",
        "inicio = time.time()\n",
        "C_bloques = multiplicacion_por_bloques(A, B, tam_bloque)\n",
        "fin = time.time()\n",
        "\n",
        "# Mostrar tiempo de ejecución\n",
        "print(f\"Tiempo de ejecución (multiplicación por bloques): {fin - inicio:.6f} segundos\")\n",
        "\n",
        "# Mostrar una parte de la matriz resultado\n",
        "print(\"Primeros 5 elementos de la primera fila (método por bloques):\", C_bloques[0, :5])"
      ],
      "metadata": {
        "colab": {
          "base_uri": "https://localhost:8080/"
        },
        "id": "pSbRqeRi_9-T",
        "outputId": "2356b6ff-a1fa-4452-f27a-2ca4a64b742e"
      },
      "execution_count": null,
      "outputs": [
        {
          "output_type": "stream",
          "name": "stdout",
          "text": [
            "Tiempo de ejecución (multiplicación por bloques): 0.698200 segundos\n",
            "Primeros 5 elementos de la primera fila (método por bloques): [24.82835684 24.71044741 26.42136856 25.79042537 24.87358555]\n"
          ]
        }
      ]
    },
    {
      "cell_type": "markdown",
      "source": [
        "#Ejercicio 1.2\n",
        "Programe la suma de matrices por bloques."
      ],
      "metadata": {
        "id": "w_wvcMfmAWyE"
      }
    },
    {
      "cell_type": "code",
      "source": [
        "#SUMA DE MATRICES POR BLOQUES\n",
        "\n",
        "def suma_por_bloques(A, B, tam_bloque):\n",
        "    \"\"\"\n",
        "    Realiza la suma de dos matrices por bloques\n",
        "\n",
        "    Parámetros:\n",
        "    -----------\n",
        "    A : numpy.ndarray\n",
        "        Matriz de tamaño (n, n)\n",
        "    B : numpy.ndarray\n",
        "        Matriz de tamaño (n, n)\n",
        "    tam_bloque : int\n",
        "        Tamaño del bloque para dividir la\n",
        "        matriz.\n",
        "\n",
        "    Retorna:\n",
        "    --------\n",
        "    numpy.ndarray\n",
        "        Matriz resultante de la suma de A y B por bloques.\n",
        "    \"\"\"\n",
        "    n = A.shape[0]\n",
        "    C = np.zeros((n, n))\n",
        "\n",
        "    for i in range(0, n, tam_bloque):\n",
        "        for j in range(0, n, tam_bloque):\n",
        "            # Extraer bloques de A y B\n",
        "            A_block = A[i:i+tam_bloque, j:j+tam_bloque]\n",
        "            B_block = B[i:i+tam_bloque, j:j+tam_bloque]\n",
        "\n",
        "            # Sumar bloques y guardarlos en la matriz C\n",
        "            C[i:i+tam_bloque, j:j+tam_bloque] = A_block + B_block\n",
        "\n",
        "    return C\n",
        "\n",
        "# Tamaño de la matriz\n",
        "n = 100\n",
        "tam_bloque = 10\n",
        "\n",
        "# Crear matrices aleatorias\n",
        "A = np.random.rand(n, n)\n",
        "B = np.random.rand(n, n)\n",
        "\n",
        "# Ejecutar la suma por bloques\n",
        "C_bloques = suma_por_bloques(A, B, tam_bloque)\n",
        "\n",
        "# Mostrar una parte del resultado\n",
        "print(\"Suma por bloques:\", C_bloques[0, :5])"
      ],
      "metadata": {
        "colab": {
          "base_uri": "https://localhost:8080/"
        },
        "id": "0wqD7eCKAZiR",
        "outputId": "25b26dc7-fd2b-4db9-aa71-d52f43299a33"
      },
      "execution_count": null,
      "outputs": [
        {
          "output_type": "stream",
          "name": "stdout",
          "text": [
            "Suma por bloques: [1.1200726  1.71901604 0.2189597  0.50006711 1.79544633]\n"
          ]
        }
      ]
    },
    {
      "cell_type": "markdown",
      "source": [
        "#Ejercicio 1.3\n",
        "Programa el producto punto de dos vectores en R^n, por bloques. Note que para que esto tenga relevancia computacional, la n debe ser mayor que 50."
      ],
      "metadata": {
        "id": "pCvKKxePA-mD"
      }
    },
    {
      "cell_type": "code",
      "source": [
        "def producto_punto_bloques(v1, v2, tam_bloque):\n",
        "    \"\"\"\n",
        "    Calcula el producto punto de dos vectores usando bloques.\n",
        "\n",
        "    Parámetros:\n",
        "    -----------\n",
        "    v1, v2 : numpy.ndarray\n",
        "        Vectores de tamaño n.\n",
        "    tam_bloque : int\n",
        "        Tamaño del bloque para dividir el cálculo.\n",
        "\n",
        "    Retorna:\n",
        "    --------\n",
        "        Producto punto de los dos vectores.\n",
        "    \"\"\"\n",
        "    n = len(v1)\n",
        "    resultado = 0.0\n",
        "\n",
        "    for i in range(0, n, tam_bloque):\n",
        "        # Tomar una porción (bloque) de los vectores\n",
        "        v1_bloque = v1[i:i+tam_bloque]\n",
        "        v2_bloque = v2[i:i+tam_bloque]\n",
        "\n",
        "        # Producto punto del bloque y sumarlo al resultado total\n",
        "        resultado += (v1_bloque @ v2_bloque)\n",
        "\n",
        "    return resultado\n",
        "\n",
        "# Definir tamaño del bloque\n",
        "tam_bloque = 10\n",
        "v1 = np.random.rand(n)\n",
        "v2 = np.random.rand(n)\n",
        "\n",
        "# Medir tiempo de ejecución\n",
        "inicio = time.time()\n",
        "resultado_bloques = producto_punto_bloques(v1, v2, tam_bloque)\n",
        "fin = time.time()\n",
        "\n",
        "# Mostrar tiempo de ejecución y resultado\n",
        "print(f\"Resultado por bloques: {resultado_bloques:.6f}\")"
      ],
      "metadata": {
        "colab": {
          "base_uri": "https://localhost:8080/"
        },
        "id": "W8XUDdn-BJLO",
        "outputId": "51e56f8c-1711-4b2b-f8aa-817b4e7ea85b"
      },
      "execution_count": null,
      "outputs": [
        {
          "output_type": "stream",
          "name": "stdout",
          "text": [
            "Resultado por bloques: 24.342543\n"
          ]
        }
      ]
    },
    {
      "cell_type": "markdown",
      "source": [
        "#Ejercicio 1.4\n",
        "\n",
        "Haga un programa que realice la transpuesta conjugada de una matriz compleja"
      ],
      "metadata": {
        "id": "SEKp_wds4z2f"
      }
    },
    {
      "cell_type": "code",
      "source": [
        "def conjugado_complejo(numero):\n",
        "    \"\"\"\n",
        "    Calcula el conjugado de un número complejo.\n",
        "\n",
        "    Parámetros:\n",
        "    -----------\n",
        "    numero :\n",
        "      Número complejo del cual se calculará el conjugado. Debe ser de tipo 'complex'\n",
        "\n",
        "    Retorna:\n",
        "    --------\n",
        "    Una tupla con dos elementos:\n",
        "    - El primer elemento es la parte real del número complejo.\n",
        "    - El segundo elemento es la parte imaginaria negada del número complejo.\n",
        "    \"\"\"\n",
        "    return (numero.real, -numero.imag)\n",
        "\n",
        "def transpuesta_conjugada(matriz):\n",
        "    \"\"\"\n",
        "    Calcula la transpuesta conjugada de una matriz compleja.\n",
        "\n",
        "    La transpuesta conjugada se obtiene al transponer la matriz (intercambiar filas por columnas) y calcular el conjugado complejo de cada elemento.\n",
        "    Si la matriz es de dimensiones mxn, la transpuesta conjugada tendrá dimensiones nxm.\n",
        "\n",
        "    Parámetros:\n",
        "    -----------\n",
        "    matriz : list of list of complex\n",
        "        Matriz compleja de dimensiones mxn, representada como una lista de listas.\n",
        "        Cada elemento de la matriz debe ser un número complejo (tipo 'complex').\n",
        "\n",
        "    Retorna:\n",
        "    --------\n",
        "    list of list of complex\n",
        "        Matriz transpuesta conjugada de dimensiones nxm, representada como una lista de listas.\n",
        "        Cada elemento de la matriz resultante es el conjugado complejo del elemento correspondiente en la matriz original, pero en la posición transpuesta.\n",
        "    \"\"\"\n",
        "\n",
        "    # Obtener las dimensiones de la matriz\n",
        "    filas = len(matriz)\n",
        "    columnas = len(matriz[0])\n",
        "\n",
        "    # Crear una matriz vacía para almacenar el resultado con dimensiones invertidas respecto a la matriz original\n",
        "    resultado = [[0j for _ in range(filas)] for _ in range(columnas)]\n",
        "\n",
        "    # Calcular la transpuesta conjugada\n",
        "    for i in range(filas):\n",
        "        for j in range(columnas):\n",
        "            # Obtener el conjugado del elemento (i, j)\n",
        "            conjugado = conjugado_complejo(matriz[i][j])\n",
        "            # Asignar el conjugado a la posición (j, i) en la matriz resultado\n",
        "            resultado[j][i] = complex(conjugado[0], conjugado[1]) #convierte la tupla (real, imaginaria_negada) de nuevo a un número complejo.\n",
        "\n",
        "    return resultado\n",
        "\n",
        "# Ejemplo de uso\n",
        "matriz_compleja = [\n",
        "    [1 + 2j, 6 - 7j, 8j],\n",
        "    [9 + 2j, 4-5j, 3 + 2j]\n",
        "    ]\n",
        "\n",
        "resultado = transpuesta_conjugada(matriz_compleja)\n",
        "print(\"Transpuesta conjugada:\")\n",
        "for fila in resultado:\n",
        "    print(fila)"
      ],
      "metadata": {
        "colab": {
          "base_uri": "https://localhost:8080/"
        },
        "id": "-TqSIu_zgrrD",
        "outputId": "336cb651-1ed4-48bb-d40e-3f71b836baf7"
      },
      "execution_count": null,
      "outputs": [
        {
          "output_type": "stream",
          "name": "stdout",
          "text": [
            "Transpuesta conjugada:\n",
            "[(1-2j), (9-2j)]\n",
            "[(6+7j), (4+5j)]\n",
            "[-8j, (3-2j)]\n"
          ]
        }
      ]
    },
    {
      "cell_type": "markdown",
      "source": [
        "# Ejercicio 1.5\n",
        "Haga un programa que realice la potencia de una matriz de tamaño 50×50. De preferencia utilice la multiplicación de matrices por bloques\n"
      ],
      "metadata": {
        "id": "oJYAXocH5HZx"
      }
    },
    {
      "cell_type": "code",
      "source": [
        "def potencia_matriz(A, p, tam_bloque):\n",
        "    \"\"\"\n",
        "    Calcula A^p utilizando multiplicación por bloques.\n",
        "\n",
        "    Parámetros:\n",
        "    -----------\n",
        "    A : Matriz cuadrada de tamaño n x n.\n",
        "    p : Potencia a la que se elevará la matriz.\n",
        "    tam_bloque : Tamaño del bloque para la multiplicación por bloques.\n",
        "\n",
        "    Retorna:\n",
        "    --------\n",
        "        Matriz resultante de elevar A a la potencia p.\n",
        "    \"\"\"\n",
        "    n = A.shape[0] # Obtiene el tamaño de la matriz (nxn)\n",
        "    resultado = np.eye(n)  # Matriz identidad\n",
        "    base = A.copy() # Copia la matriz A para usarla como base en las multiplicaciones\n",
        "\n",
        "    \"\"\"\n",
        "    Descomponer la potencia p en potencias de 2: Esto se hace dividiendo p entre 2 repetidamente.\n",
        "    Multiplicar la matriz base solo cuando p es impar.\n",
        "    En cada iteración, la base se eleva al cuadrado para reducir el número de multiplicaciones.\n",
        "    \"\"\"\n",
        "    while p > 0: # Itera mientras la potencia p sea mayor que 0\n",
        "        if p % 2 == 1: # Si p es impar\n",
        "            resultado = multiplicacion_por_bloques(resultado, base, tam_bloque) # Multiplica el resultado por la base\n",
        "        base = multiplicacion_por_bloques(base, base, tam_bloque) # Eleva la base al cuadrado\n",
        "        p //= 2 # Divide p entre 2 (división entera)\n",
        "\n",
        "    return resultado\n",
        "\n",
        "# Definir matriz 50x50 con números aleatorios del 1 al 10\n",
        "A = np.random.randint(1, 51, (50, 50))\n",
        "\n",
        "# Definir potencia a la que se elevará la matriz\n",
        "p = 3\n",
        "\n",
        "# Definir tamaño del bloque\n",
        "tam_bloque = 5\n",
        "\n",
        "# Mostrar una parte de la matriz original\n",
        "print(\"Primeros 5x5 elementos de la matriz original:\")\n",
        "print(A[:5, :5])\n",
        "\n",
        "# Mostrar una parte de la matriz resultado\n",
        "A_potencia1 = potencia_matriz(A, p, tam_bloque)\n",
        "print(\"Primeros 5x5 elementos de la matriz resultado:\")\n",
        "print(A_potencia1[:5, :5])\n",
        "\n",
        "\n",
        "\n",
        "\n",
        "##########    Otra froma es utiliando las librerias SciPy o CuPy donde obtuvimos el mismo resultado   ###########\n",
        "A_potencia2 = fractional_matrix_power(A, p)\n",
        "\n",
        "# Mostrar la matriz original\n",
        "print(\"Primeros 5x5 elementos de la matriz original:\")\n",
        "print(A[:5, :5])\n",
        "\n",
        "# Mostrar una parte de la matriz resultado\n",
        "print(\"Primeros 5x5 elementos de la matriz resultado:\")\n",
        "print(A_potencia2[:5, :5])"
      ],
      "metadata": {
        "colab": {
          "base_uri": "https://localhost:8080/"
        },
        "id": "TJ1MbLllhZO4",
        "outputId": "a2a90436-0f9b-4b0b-c86b-9aa676f4c291"
      },
      "execution_count": null,
      "outputs": [
        {
          "output_type": "stream",
          "name": "stdout",
          "text": [
            "Primeros 5x5 elementos de la matriz original:\n",
            "[[32 40 36  9 40]\n",
            " [30 29 31 10  1]\n",
            " [23 33 11 10 39]\n",
            " [15 31 36 29 30]\n",
            " [23  4 44 15 47]]\n",
            "Primeros 5x5 elementos de la matriz resultado:\n",
            "[[41157154. 44758271. 41480123. 45528802. 47668231.]\n",
            " [39449965. 42772729. 39801865. 43471170. 45477482.]\n",
            " [36806631. 39913114. 36675911. 40628341. 42413531.]\n",
            " [36874838. 40138736. 37561163. 40971927. 42735142.]\n",
            " [32173941. 34637137. 31907240. 35131164. 36881125.]]\n",
            "Primeros 5x5 elementos de la matriz original:\n",
            "[[32 40 36  9 40]\n",
            " [30 29 31 10  1]\n",
            " [23 33 11 10 39]\n",
            " [15 31 36 29 30]\n",
            " [23  4 44 15 47]]\n",
            "Primeros 5x5 elementos de la matriz resultado:\n",
            "[[41157154 44758271 41480123 45528802 47668231]\n",
            " [39449965 42772729 39801865 43471170 45477482]\n",
            " [36806631 39913114 36675911 40628341 42413531]\n",
            " [36874838 40138736 37561163 40971927 42735142]\n",
            " [32173941 34637137 31907240 35131164 36881125]]\n"
          ]
        }
      ]
    },
    {
      "cell_type": "markdown",
      "source": [
        "# Ejercicio 1.6\n",
        "Desarrollar un programa que calcule el producto cruz entre dos vectores tridimensionales.\n",
        "\n",
        "Sean $a$ y $b$ dos vectores tridimencionales, es decir:\n",
        "$$\n",
        "a = (a_0, a_1, a_2) \\ \\ \\ \\text{y} \\ \\ \\ b = (b_0, b_1, b_2)\n",
        "$$\n",
        "\n",
        "Entonces para calcular el producto creuz de ambos vectores realizamos lo siguiente\n",
        "\n",
        "$$\n",
        "\\begin{align*}\n",
        "a \\times b &=\n",
        "\\begin{bmatrix}\n",
        "i & j & k \\\\\n",
        "a_0 & a_1 & a_2 \\\\\n",
        "b_0 & b_1 & b_2\n",
        "\\end{bmatrix} \\\\\n",
        "&= \\ (a_1 b_2 - a_2 b_1)i - (a_0 b_2 - a_2 b_0)j + (a_0 b_1 - a_1 b_0)k \\\\\n",
        "&= (a_1 b_2 - a_2 b_1)i + (a_2 b_0 - a_0 b_2 )j + (a_0 b_1 - a_1 b_0)k\n",
        "\\end{align*}\n",
        "$$\n",
        "\n",
        "Por lo que\n",
        "$$\n",
        "a \\times b = ( \\ (a_1 b_2 - a_2 b_1), (a_2 b_0 - a_0 b_2 ), (a_0 b_1 - a_1 b_0) \\ )\n",
        "$$"
      ],
      "metadata": {
        "id": "l_x4lc5D5UnI"
      }
    },
    {
      "cell_type": "code",
      "source": [
        "def producto_cruz(a, b):\n",
        "    \"\"\"\n",
        "    Calcula el producto cruz (o producto vectorial) entre dos vectores tridimensionales.\n",
        "\n",
        "    Parámetros:\n",
        "    -----------\n",
        "    a : tuple or list\n",
        "        Primer vector tridimensional, representado como una tupla o lista de tres elementos (x, y, z).\n",
        "    b : tuple or list\n",
        "        Segundo vector tridimensional, representado como una tupla o lista de tres elementos (x, y, z).\n",
        "\n",
        "    Retorna:\n",
        "    --------\n",
        "    tuple\n",
        "        Un vector tridimensional resultante del producto cruz, representado como una tupla (x, y, z).\n",
        "    \"\"\"\n",
        "    componente_x = a[1] * b[2] - a[2] * b[1]\n",
        "    componente_y = a[2] * b[0] - a[0] * b[2]\n",
        "    componente_z = a[0] * b[1] - a[1] * b[0]\n",
        "\n",
        "    return (componente_x, componente_y, componente_z)\n",
        "\n",
        "# Ejemplo de uso\n",
        "a = (8, 2, 7)\n",
        "b = (2, 4, 6)\n",
        "\n",
        "resultado = producto_cruz(a, b)\n",
        "print(\"El producto cruz es:\", resultado)\n",
        "\n",
        "\n",
        "\n",
        "\n",
        "########## Para corroborar ocupamos la siguiente función de la librería NumPy, dandonos el mismo resultados ##########\n",
        "print(\"Producto cruz utilizando np.cross:\", np.cross(a, b))"
      ],
      "metadata": {
        "colab": {
          "base_uri": "https://localhost:8080/"
        },
        "id": "1Ab--8e3ltjZ",
        "outputId": "9605f1aa-34a5-4b2d-82bb-60148356c3cb"
      },
      "execution_count": null,
      "outputs": [
        {
          "output_type": "stream",
          "name": "stdout",
          "text": [
            "El producto cruz es: (-16, -34, 28)\n",
            "Producto cruz utilizando np.cross: [-16 -34  28]\n"
          ]
        }
      ]
    },
    {
      "cell_type": "markdown",
      "source": [
        "#Ejercicio 1.7\n",
        "Crear un programa que aplique una rotacion de un vector bidimensional\n",
        "mediante una matriz de rotacion."
      ],
      "metadata": {
        "id": "u-ecwY89BVH8"
      }
    },
    {
      "cell_type": "code",
      "source": [
        "def rotar_vector(v, theta):\n",
        "    \"\"\"\n",
        "    Rotación a un vector bidimensional.\n",
        "\n",
        "    Parámetros:\n",
        "    -----------\n",
        "    v : numpy.ndarray\n",
        "        Vector original de tamaño (2,)\n",
        "    theta : float\n",
        "        Ángulo de rotación en radianes\n",
        "\n",
        "    Retorna:\n",
        "    --------\n",
        "    numpy.ndarray\n",
        "        Vector rotado\n",
        "    \"\"\"\n",
        "    # Matriz de rotación\n",
        "    R = np.array([[np.cos(theta), -np.sin(theta)], [np.sin(theta), np.cos(theta)]])\n",
        "\n",
        "    return np.round((R @ v))\n",
        "\n",
        "# Definir un vector original\n",
        "v = np.array([1., 0.])\n",
        "\n",
        "# Ángulo de rotación en radianes (90 grados = pi/2)\n",
        "theta = np.pi / 2\n",
        "\n",
        "# Aplicar rotación\n",
        "v_rotado = rotar_vector(v, theta)\n",
        "\n",
        "# Resultado\n",
        "print(f\"Vector original: {v}\")\n",
        "print(f\"Vector rotado (90°): {v_rotado}\")"
      ],
      "metadata": {
        "colab": {
          "base_uri": "https://localhost:8080/"
        },
        "id": "KAZ-T9n_BY48",
        "outputId": "20e1a5c4-69fa-4c2d-ae5a-1dac7fb8f59d"
      },
      "execution_count": null,
      "outputs": [
        {
          "output_type": "stream",
          "name": "stdout",
          "text": [
            "Vector original: [1. 0.]\n",
            "Vector rotado (90°): [0. 1.]\n"
          ]
        }
      ]
    },
    {
      "cell_type": "markdown",
      "source": [
        "#Ejercicio 1.8"
      ],
      "metadata": {
        "id": "Ljegv5egu8cH"
      }
    },
    {
      "cell_type": "code",
      "source": [
        "def matriz_rotacion(eje, theta):\n",
        "    \"\"\"\n",
        "    Matriz de rotación en 3D alrededor del eje dado.\n",
        "\n",
        "    Parámetros:\n",
        "    -----------\n",
        "    eje : str\n",
        "        Eje de rotación (\"x\", \"y\" o \"z\").\n",
        "    theta : float\n",
        "        Ángulo de rotación en radianes.\n",
        "\n",
        "    Retorna:\n",
        "    --------\n",
        "    numpy.ndarray\n",
        "        Matriz de rotación 3x3.\n",
        "    \"\"\"\n",
        "    if eje == \"x\":\n",
        "        R = np.array([[1, 0, 0], [0, np.cos(theta), -np.sin(theta)], [0, np.sin(theta), np.cos(theta)]])\n",
        "    elif eje == \"y\":\n",
        "        R = np.array([[np.cos(theta), 0, np.sin(theta)], [0, 1, 0],[-np.sin(theta), 0, np.cos(theta)]])\n",
        "    elif eje == \"z\":\n",
        "        R = np.array([[np.cos(theta), -np.sin(theta), 0],[np.sin(theta), np.cos(theta), 0],[0, 0, 1]])\n",
        "    else:\n",
        "        raise ValueError(\"El eje debe ser 'x', 'y' o 'z'\")\n",
        "\n",
        "    return R\n",
        "\n",
        "def rotar_vector_3D(v, eje, theta):\n",
        "    \"\"\"\n",
        "    Rotacion a un vector tridimensional usando una matriz de rotacin\n",
        "\n",
        "    Parametros:\n",
        "    -----------\n",
        "    v : numpy.ndarray\n",
        "        Vector original de tamaño (3,)\n",
        "    eje : str\n",
        "        Eje de rotacion (\"x\", \"y\" o \"z\")\n",
        "    theta : float\n",
        "        Angulo de rotacion en radianes\n",
        "\n",
        "    Retorna:\n",
        "    --------\n",
        "    numpy.ndarray\n",
        "        Vector rotado\n",
        "    \"\"\"\n",
        "    # Obtener la matriz de rotacion correspondiente\n",
        "    R = matriz_rotacion(eje, theta)\n",
        "\n",
        "    # Multiplicamos la matriz de rotacion por el vector\n",
        "    v_rotado = (R @ v)\n",
        "\n",
        "    # Redondeamos para evitar errores numericos\n",
        "    return np.round(v_rotado, 10)\n",
        "\n",
        "# Definir un vector original en 3D\n",
        "v = np.array([1., 0., 0.])\n",
        "\n",
        "# Definir el eje de rotacion y el angulo (90° en radianes)\n",
        "eje = \"z\"\n",
        "theta = np.pi / 2\n",
        "\n",
        "# Aplicar rotacion\n",
        "v_rotado = rotar_vector_3D(v, eje, theta)\n",
        "\n",
        "# Resultado\n",
        "print(f\"Vector original: {v}\")\n",
        "print(f\"Vector rotado (90° alrededor de {eje}): {v_rotado}\")"
      ],
      "metadata": {
        "colab": {
          "base_uri": "https://localhost:8080/"
        },
        "id": "gFmsinKovT3H",
        "outputId": "f67923d7-bced-445b-f970-8bc456f69076"
      },
      "execution_count": null,
      "outputs": [
        {
          "output_type": "stream",
          "name": "stdout",
          "text": [
            "Vector original: [1. 0. 0.]\n",
            "Vector rotado (90° alrededor de z): [0. 1. 0.]\n"
          ]
        }
      ]
    },
    {
      "cell_type": "markdown",
      "source": [
        "#Ejercicio 1.9\n",
        "\n",
        "Calcule la norma 1,\n",
        "\n",
        "$$\n",
        "\\|A\\|_1 = \\max_{1 \\leq j \\leq n} \\sum_{i=1}^{m} |a_{ij}|\n",
        "$$"
      ],
      "metadata": {
        "id": "QxbZwhDEpbcV"
      }
    },
    {
      "cell_type": "code",
      "source": [
        "def norma_1(matriz):\n",
        "    \"\"\"\n",
        "    Calcula la norma 1 de una matriz.\n",
        "\n",
        "    La norma 1 de una matriz se define como el máximo de las sumas de los valores absolutos\n",
        "    de los elementos de cada columna.\n",
        "\n",
        "    Parámetros:\n",
        "    -----------\n",
        "    matriz :\n",
        "        Matriz de tamaño m x n, representada como una lista de listas.\n",
        "        Cada elemento de la matriz debe ser un número (entero o flotante).\n",
        "\n",
        "    Retorna:\n",
        "    --------\n",
        "    float\n",
        "        La norma 1 de la matriz\n",
        "    \"\"\"\n",
        "    sumas_columnas = []\n",
        "\n",
        "    # Iteramos sobre cada columna\n",
        "    for j in range(len(matriz[0])): #j recorre las columnas\n",
        "        suma_columna = 0\n",
        "        # Iteramos sobre cada fila para sumar los valores absolutos de la columna actual\n",
        "        for i in range(len(matriz)): #i recorre las filas\n",
        "            suma_columna += abs(matriz[i][j]) # Suma el valor absoluto del elemento (i, j)\n",
        "        sumas_columnas.append(suma_columna)\n",
        "\n",
        "    # máximo de las sumas de las columnas\n",
        "    return max(sumas_columnas)\n",
        "\n",
        "# Ejemplo de uso\n",
        "matriz = [\n",
        "    [1, -2, 3],\n",
        "    [4, 5, -6],\n",
        "    [7, 8, 9]\n",
        "]\n",
        "\n",
        "print(\"La norma 1 de la matriz es:\", norma_1(matriz))\n",
        "\n",
        "\n",
        "\n",
        "\n",
        "\n",
        "########## Para corroborar ocupamos la siguiente función de la librería NumPy, dandonos el mismo resultado ##########\n",
        "norma_1 = np.linalg.norm(matriz, ord=1)\n",
        "print(\"La norma 1 de la matriz utilizando numpy.linalg.norm es:\", norma_1)"
      ],
      "metadata": {
        "colab": {
          "base_uri": "https://localhost:8080/"
        },
        "outputId": "6d63ffeb-5f38-4e94-821f-564805044e4a",
        "id": "Pz0Bo9nx6KvD"
      },
      "execution_count": null,
      "outputs": [
        {
          "output_type": "stream",
          "name": "stdout",
          "text": [
            "La norma 1 de la matriz es: 18\n",
            "La norma 1 de la matriz utilizando numpy.linalg.norm es: 18.0\n"
          ]
        }
      ]
    },
    {
      "cell_type": "markdown",
      "source": [
        "#Ejercicio 1.10\n",
        "Calcule la norma infinito,\n",
        "\n",
        "$$\n",
        "\\|A\\|_{\\infty} = \\max_{1 \\leq i \\leq m} \\sum_{j=1}^{n} |a_{ij}|\n",
        "$$"
      ],
      "metadata": {
        "id": "zI4WcCs7Blsf"
      }
    },
    {
      "cell_type": "code",
      "source": [
        "\n",
        "def norma_infinito_matriz(A):\n",
        "    \"\"\"\n",
        "    Calcula la norma infinito de una matriz.\n",
        "\n",
        "    Parámetros:\n",
        "    -----------\n",
        "    A : numpy.ndarray\n",
        "        Matriz de tamaño (m, n)\n",
        "\n",
        "    Retorna:\n",
        "    --------\n",
        "    float\n",
        "        Norma infinito de la matriz.\n",
        "    \"\"\"\n",
        "    return np.max(np.sum(np.abs(A), axis=1))  # Suma de filas y maximo\n",
        "\n",
        "# Definir una matriz de ejemplo\n",
        "A = np.array([[2, -3, 5],[1,  7, -6],[4, -2, 8]])\n",
        "\n",
        "# Calcular la norma infinito\n",
        "norma_inf_A = norma_infinito_matriz(A)\n",
        "\n",
        "# Resultado\n",
        "print(f\"Matriz:\\n{A}\")\n",
        "print(f\"Norma infinito de A: {norma_inf_A}\")"
      ],
      "metadata": {
        "id": "8mrn9mvfPArI",
        "colab": {
          "base_uri": "https://localhost:8080/"
        },
        "outputId": "713b9590-7f15-457f-83f7-24a25fcc2d9f"
      },
      "execution_count": null,
      "outputs": [
        {
          "output_type": "stream",
          "name": "stdout",
          "text": [
            "Matriz:\n",
            "[[ 2 -3  5]\n",
            " [ 1  7 -6]\n",
            " [ 4 -2  8]]\n",
            "Norma infinito de A: 14\n"
          ]
        }
      ]
    },
    {
      "cell_type": "markdown",
      "source": [
        "#Ejercicio 1.11\n",
        "\n",
        "Calcule la norma,\n",
        "\n",
        "$$\n",
        "\\|A\\|_2 = \\sqrt{\\sum_{j=1}^{m}\\sum_{i=1}^{n} a_{ij}^2}\n",
        "$$\n"
      ],
      "metadata": {
        "id": "moJPskWHAeHq"
      }
    },
    {
      "cell_type": "code",
      "source": [
        "def norma_2(matriz):\n",
        "    \"\"\"\n",
        "    Calcula la norma 2 de una matriz.\n",
        "\n",
        "    Se define como la raíz cuadrada de la suma de los cuadrados de todos los elementos de la matriz.\n",
        "\n",
        "    Parámetros:\n",
        "    -----------\n",
        "    matriz :\n",
        "        Matriz de tamaño n x m, representada como una lista de listas.\n",
        "\n",
        "    Retorna:\n",
        "    --------\n",
        "    float\n",
        "        La norma 2 de la matriz.\n",
        "    \"\"\"\n",
        "\n",
        "    suma_cuadrados = 0\n",
        "\n",
        "    # Iteramos sobre cada fila y columna para sumar los cuadrados de los elementos\n",
        "    for i in range(len(matriz)):  # Recorre las filas\n",
        "      for j in range(len(matriz[i])):  # Recorre las columnas\n",
        "        suma_cuadrados += matriz[i][j] ** 2 # Sumamos el cuadrado de cada elemento\n",
        "\n",
        "    # La norma 2 es la raíz cuadrada de la suma de los cuadrados\n",
        "    return math.sqrt(suma_cuadrados)\n",
        "\n",
        "# Ejemplo de uso\n",
        "matriz = [\n",
        "    [1, -2, 3],\n",
        "    [4, 5, -6],\n",
        "    [7, 8, 9]\n",
        "]\n",
        "# Calculamos la norma 2 de la matriz\n",
        "print(\"La norma 2 de la matriz es:\", norma_2(matriz))"
      ],
      "metadata": {
        "colab": {
          "base_uri": "https://localhost:8080/"
        },
        "id": "Url7GT93tz5o",
        "outputId": "976430d0-f972-4aa1-be1d-aceb2a2aad8a"
      },
      "execution_count": null,
      "outputs": [
        {
          "output_type": "stream",
          "name": "stdout",
          "text": [
            "La norma 2 de la matriz es: 16.881943016134134\n"
          ]
        }
      ]
    }
  ]
}