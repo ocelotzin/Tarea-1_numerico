{
  "nbformat": 4,
  "nbformat_minor": 0,
  "metadata": {
    "colab": {
      "provenance": []
    },
    "kernelspec": {
      "name": "python3",
      "display_name": "Python 3"
    },
    "language_info": {
      "name": "python"
    }
  },
  "cells": [
    {
      "cell_type": "code",
      "execution_count": null,
      "metadata": {
        "id": "7nwQzZrxpXNX"
      },
      "outputs": [],
      "source": []
    },
    {
      "cell_type": "markdown",
      "source": [
        "#Ejercicio 1.1\n",
        " Programe la multiplicacion de matrices por bloques y compare tiempos de ejecucion contra el programa realizado en clase. Ojo, el nuevo programa debe ser mas rapido, escoja tamanos de 10 hasta 100."
      ],
      "metadata": {
        "id": "FSB1b7vUAKz7"
      }
    },
    {
      "cell_type": "code",
      "source": [
        "# Definir tamaño de la matriz\n",
        "n = 100\n",
        "A = np.random.rand(n, n)\n",
        "B = np.random.rand(n, n)"
      ],
      "metadata": {
        "id": "iP7uXtPJA5F4"
      },
      "execution_count": null,
      "outputs": []
    },
    {
      "cell_type": "code",
      "source": [
        "#MULTIPLICACION DE MATRICES EN CLASE\n",
        "\n",
        "def MultMat(Mat1, Mat2):\n",
        "    \"\"\"\n",
        "    Realiza la multiplicación de dos matrices.\n",
        "\n",
        "    Parámetros:\n",
        "    -----------\n",
        "    Mat1 : numpy.ndarray\n",
        "        Una matriz bidimensional de forma (n, m), donde 'n' es el número de filas\n",
        "        y 'm' es el número de columnas.\n",
        "    Mat2 : numpy.ndarray\n",
        "        Una matriz bidimensional de forma (m, p), donde 'm' es el número de filas\n",
        "        (debe coincidir con el número de columnas de Mat1) y 'p' es el número de\n",
        "        columnas.\n",
        "\n",
        "    Retorna:\n",
        "    --------\n",
        "    numpy.ndarray\n",
        "        Una matriz bidimensional de forma (n, p) que representa el resultado de\n",
        "        la multiplicación de Mat1 por Mat2.\n",
        "\n",
        "    \"\"\"\n",
        "    # Inicializa una matriz de ceros con las dimensiones adecuadas\n",
        "    Mat3 = np.zeros((Mat1.shape[0], Mat2.shape[1]))\n",
        "\n",
        "    # Itera sobre cada fila de la primera matriz\n",
        "    for row in range(Mat1.shape[0]):\n",
        "        # Itera sobre cada columna de la segunda matriz\n",
        "        for col in range(Mat2.shape[1]):\n",
        "            # Realiza la multiplicación y suma los productos\n",
        "            for aux in range(Mat2.shape[0]):\n",
        "                Mat3[row, col] += Mat1[row, aux] * Mat2[aux, col]\n",
        "\n",
        "    return Mat3\n",
        "\n",
        "\n",
        "# Medir tiempo de ejecución\n",
        "inicio = time.time()\n",
        "C_CLASE = MultMat(A, B)  # Multiplicación clase\n",
        "fin = time.time()\n",
        "\n",
        "# Mostrar tiempo de ejecución\n",
        "print(f\"Tiempo de ejecución (multiplicación en clase): {fin - inicio:.6f} segundos\")\n",
        "\n",
        "# Mostrar una parte de la matriz resultado\n",
        "print(\"Primeros 5 elementos de la primera fila (método en clase):\", C_CLASE[0, :5])"
      ],
      "metadata": {
        "id": "rwBv0tTmJLGR",
        "colab": {
          "base_uri": "https://localhost:8080/"
        },
        "outputId": "74a132b9-6255-4c20-b564-cdd657d03c56"
      },
      "execution_count": null,
      "outputs": [
        {
          "output_type": "stream",
          "name": "stdout",
          "text": [
            "Tiempo de ejecución (multiplicación en clase): 0.660722 segundos\n",
            "Primeros 5 elementos de la primera fila (método en clase): [22.15457783 21.5033276  20.84493004 22.00595416 20.05759132]\n"
          ]
        }
      ]
    },
    {
      "cell_type": "code",
      "source": [
        "#MULTIPLICACION DE MATRICES POR BLOQUES\n",
        "\n",
        "def multiplicacion_por_bloques(A, B, tam_bloque):\n",
        "    \"\"\"\n",
        "    Multiplica dos matrices por bloques para mejorar eficiencia.\n",
        "\n",
        "    Parámetros:\n",
        "    -----------\n",
        "    A : numpy.ndarray\n",
        "        Matriz de tamaño (n, n)\n",
        "    B : numpy.ndarray\n",
        "        Matriz de tamaño (n, n)\n",
        "    tam_bloque : int\n",
        "        Tamaño del bloque para dividir la matriz.\n",
        "\n",
        "    Retorna:\n",
        "    --------\n",
        "    numpy.ndarray\n",
        "        Matriz resultante de la multiplicación de A y B por bloques.\n",
        "    \"\"\"\n",
        "    n = A.shape[0]\n",
        "    C = np.zeros((n, n))\n",
        "\n",
        "    for i in range(0, n, tam_bloque):\n",
        "        for j in range(0, n, tam_bloque):\n",
        "            for k in range(0, n, tam_bloque):\n",
        "                A_block = A[i:i+tam_bloque, k:k+tam_bloque]\n",
        "                B_block = B[k:k+tam_bloque, j:j+tam_bloque]\n",
        "                C[i:i+tam_bloque, j:j+tam_bloque] += np.dot(A_block, B_block)\n",
        "\n",
        "    return C\n",
        "\n",
        "# Definir tamaño del bloque\n",
        "tam_bloque = 10\n",
        "\n",
        "# Medir tiempo de ejecución\n",
        "inicio = time.time()\n",
        "C_bloques = multiplicacion_por_bloques(A, B, tam_bloque)\n",
        "fin = time.time()\n",
        "\n",
        "# Mostrar tiempo de ejecución\n",
        "print(f\"Tiempo de ejecución (multiplicación por bloques): {fin - inicio:.6f} segundos\")\n",
        "\n",
        "# Mostrar una parte de la matriz resultado\n",
        "print(\"Primeros 5 elementos de la primera fila (método por bloques):\", C_bloques[0, :5])"
      ],
      "metadata": {
        "colab": {
          "base_uri": "https://localhost:8080/"
        },
        "id": "pSbRqeRi_9-T",
        "outputId": "b12457e9-c421-46dc-c2d9-b04efd4c7490"
      },
      "execution_count": null,
      "outputs": [
        {
          "output_type": "stream",
          "name": "stdout",
          "text": [
            "Tiempo de ejecución (multiplicación por bloques): 0.015991 segundos\n",
            "Primeros 5 elementos de la primera fila (método por bloques): [22.15457783 21.5033276  20.84493004 22.00595416 20.05759132]\n"
          ]
        }
      ]
    }
  ]
}
