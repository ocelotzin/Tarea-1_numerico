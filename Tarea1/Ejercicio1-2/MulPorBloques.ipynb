{
  "nbformat": 4,
  "nbformat_minor": 0,
  "metadata": {
    "colab": {
      "provenance": []
    },
    "kernelspec": {
      "name": "python3",
      "display_name": "Python 3"
    },
    "language_info": {
      "name": "python"
    }
  },
  "cells": [
    {
      "cell_type": "code",
      "source": [
        "#Librerias\n",
        "\n",
        "import numpy as np\n",
        "import matplotlib.pyplot as plt\n",
        "import timeit\n",
        "import time"
      ],
      "metadata": {
        "id": "IaLM3WKxRfq8"
      },
      "execution_count": null,
      "outputs": []
    },
    {
      "cell_type": "code",
      "source": [],
      "metadata": {
        "id": "aWSGXmvUwk5z"
      },
      "execution_count": null,
      "outputs": []
    },
    {
      "cell_type": "code",
      "source": [
        "#MULTIPLICACION DE MATRICES POR BLOQUES\n",
        "\n",
        "def multiplicacion_por_bloques(A, B, tam_bloque):\n",
        "    \"\"\"\n",
        "    Multiplica dos matrices por bloques para mejorar eficiencia.\n",
        "\n",
        "    Parámetros:\n",
        "    -----------\n",
        "    A : numpy.ndarray\n",
        "        Matriz de tamaño (n, n)\n",
        "    B : numpy.ndarray\n",
        "        Matriz de tamaño (n, n)\n",
        "    tam_bloque : int\n",
        "        Tamaño del bloque para dividir la matriz.\n",
        "\n",
        "    Retorna:\n",
        "    --------\n",
        "    numpy.ndarray\n",
        "        Matriz resultante de la multiplicación de A y B por bloques.\n",
        "    \"\"\"\n",
        "    n = A.shape[0]\n",
        "    C = np.zeros((n, n))\n",
        "\n",
        "    for i in range(0, n, tam_bloque):\n",
        "        for j in range(0, n, tam_bloque):\n",
        "            for k in range(0, n, tam_bloque):\n",
        "                A_block = A[i:i+tam_bloque, k:k+tam_bloque]\n",
        "                B_block = B[k:k+tam_bloque, j:j+tam_bloque]\n",
        "                C[i:i+tam_bloque, j:j+tam_bloque] += np.dot(A_block, B_block)\n",
        "\n",
        "    return C\n",
        "\n",
        "# Definir tamaño del bloque\n",
        "tam_bloque = 10\n",
        "\n",
        "# Medir tiempo de ejecución\n",
        "inicio = time.time()\n",
        "C_bloques = multiplicacion_por_bloques(A, B, tam_bloque)\n",
        "fin = time.time()\n",
        "\n",
        "# Mostrar tiempo de ejecución\n",
        "print(f\"Tiempo de ejecución (multiplicación por bloques): {fin - inicio:.6f} segundos\")\n",
        "\n",
        "# Mostrar una parte de la matriz resultado\n",
        "print(\"Primeros 5 elementos de la primera fila (método por bloques):\", C_bloques[0, :5])"
      ],
      "metadata": {
        "colab": {
          "base_uri": "https://localhost:8080/"
        },
        "id": "0wqD7eCKAZiR",
        "outputId": "f445662f-9455-4cf8-f208-e327e025d831"
      },
      "execution_count": null,
      "outputs": [
        {
          "output_type": "stream",
          "name": "stdout",
          "text": [
            "Tiempo de ejecución (multiplicación por bloques): 0.018022 segundos\n",
            "Primeros 5 elementos de la primera fila (método por bloques): [22.15457783 21.5033276  20.84493004 22.00595416 20.05759132]\n"
          ]
        }
      ]
    }
  ]
}
